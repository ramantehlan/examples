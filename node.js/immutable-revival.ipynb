{
  "cellOrder": [
    "bb98da62-d94f-4ab0-96b2-50be87e97c1f",
    "c8f5ea83-f5b3-43e9-9571-8b4e6ee7f11d",
    "cb658c44-4941-4207-aff1-010e1dc20f43",
    "a3a1ad39-fbc7-4052-acee-4f5088a5b8ee",
    "24bd593b-1b7a-41e5-8d76-5109011691c1",
    "1c408704-2f6f-4b91-992f-f7a6d4a8b801",
    "799edd8c-05a7-40d6-9bf9-fec9824511b0",
    "7e67af3a-2ad6-47cc-83e0-75175c150969",
    "3b0cda76-72ab-4f50-8481-0ab128acd515",
    "2af6f273-963c-4e05-b825-fa57d2d5f05d",
    "e08e14ee-ef83-499c-b126-b55ba360d639",
    "26e5455a-54be-4a81-85e8-593e11ae2961",
    "57a8548f-7459-4fd8-b6a0-5becfda516f3",
    "3ab420f6-0cfa-4beb-82b7-8e7990702d54",
    "8c8de901-88f1-4f0f-93f5-dafb9047a05c",
    "e0ee1d4b-55b4-479c-aa9d-c24de29e47c7",
    "d12e71c0-2168-459a-a5d7-6927f4360f6b",
    "744eff2e-8830-4781-9e82-ba3b7f29f62d",
    "08a7d6d3-dc99-4f51-82cc-da6fe2f8aa64",
    "cd1e48e1-d86c-41c0-8580-072ee1cc636f",
    "bf269e61-3c80-4599-a069-40e72bd246e3",
    "4e8d3ac0-5f3d-4b4b-b067-39f7c4968781",
    "4d38288e-bbb4-4e0e-be36-afba4a56ef16",
    "a5bb9f2d-7bcd-4275-8dd2-b396c325e534",
    "738bad47-38af-4066-913f-c8614e2a0e9a",
    "d00faf13-eb88-40d5-be37-614751208044",
    "33a53bca-f44e-4dd7-9794-28e69e579c11"
  ],
  "cellMap": {
    "744eff2e-8830-4781-9e82-ba3b7f29f62d": {
      "cell_type": "markdown",
      "metadata": {
        "collapsed": false,
        "outputExpanded": false
      },
      "source": "# Our runtime harnesses\n\nTo evaluate the speed at which we can revive our objects, we'll set up a little testing harness."
    },
    "7e67af3a-2ad6-47cc-83e0-75175c150969": {
      "cell_type": "code",
      "execution_count": 5,
      "metadata": {
        "collapsed": false,
        "outputExpanded": false
      },
      "source": "JSON.parse('{\"a\": 2, \"b\": { \"name\": \"dave\" }}', (k, v) => Object.freeze(v))",
      "outputs": [
        {
          "data": {
            "text/plain": "{ a: 2, b: { name: 'dave' } }"
          },
          "execution_count": 5,
          "metadata": {},
          "output_type": "execute_result"
        }
      ]
    },
    "738bad47-38af-4066-913f-c8614e2a0e9a": {
      "cell_type": "code",
      "execution_count": 15,
      "metadata": {
        "collapsed": false,
        "outputExpanded": false
      },
      "source": "for(var notebookPath of notebooks) {\n    console.log(\"\\n ----- \", path.basename(notebookPath))\n    raw = fs.readFileSync(notebookPath)\n    \n    var tests = [\n        { name: 'straight JSON.parse baseline', f: () => { JSON.parse(raw) } },\n        { name: 'Object.freeze baseline', f: () => { JSON.parse(raw, (k,v) => Object.freeze(v)) } },\n        { name: 'immutable greedy nb', f: () => { JSON.parse(raw, immutableGreedyReviver) } },\n    ]\n    \n    for(var test of tests) {\n        mean = runTrials(test.f, 100)\n        console.log(_.padEnd(test.name, 50), mean.toString().slice(0,10), 'ms')\n    }\n}",
      "outputs": [
        {
          "name": "stdout",
          "output_type": "stream",
          "text": "\n -----  altair.ipynb\nstraight JSON.parse baseline                       0.69328150 ms\nObject.freeze baseline                             1.94940171 ms\nimmutable greedy nb                                5.36275844 ms\n\n -----  display-updates.ipynb\nstraight JSON.parse baseline                       0.05429451 ms\nObject.freeze baseline                             0.16463312 ms\nimmutable greedy nb                                0.32877179 ms\n\n -----  download-stats.ipynb\nstraight JSON.parse baseline                       0.02703591 ms\nObject.freeze baseline                             0.08779605 ms\nimmutable greedy nb                                0.15597405 ms\n\n -----  geojson.ipynb\nstraight JSON.parse baseline                       0.07055020 ms\nObject.freeze baseline                             0.16466469 ms\nimmutable greedy nb                                0.23211168 ms\n\n -----  immutable-revival.ipynb\nstraight JSON.parse baseline                       0.12590752 ms\nObject.freeze baseline                             0.36582116 ms\nimmutable greedy nb                                0.46930496 ms\n\n -----  intro.ipynb\nstraight JSON.parse baseline                       0.04621393 ms\nObject.freeze baseline                             0.09170448 ms\nimmutable greedy nb                                0.13232220 ms\n\n -----  markdown-regression-testing.ipynb\nstraight JSON.parse baseline                       0.08109534 ms\nObject.freeze baseline                             0.15284579 ms\nimmutable greedy nb                                0.20109126 ms\n\n -----  model-debug.ipynb\nstraight JSON.parse baseline                       0.01628424 ms\nObject.freeze baseline                             0.04633781 ms\nimmutable greedy nb                                0.06626394 ms\n\n -----  pandas-to-geojson.ipynb\nstraight JSON.parse baseline                       0.08115661 ms\nObject.freeze baseline                             0.22733456 ms\nimmutable greedy nb                                0.29805798 ms\n\n -----  plotly.ipynb\nstraight JSON.parse baseline                       0.63060372 ms\nObject.freeze baseline                             2.10975360 ms\nimmutable greedy nb                                2.54563542 ms\n\n -----  plotlyr.ipynb\nstraight JSON.parse baseline                       0.01323962 ms\nObject.freeze baseline                             0.03229648 ms\nimmutable greedy nb                                0.05114747 ms\n\n -----  table-with-schema.ipynb\nstraight JSON.parse baseline                       0.58282147 ms\nObject.freeze baseline                             0.88989187 ms\nimmutable greedy nb                                1.05140892 ms\n\n -----  vdom.ipynb\nstraight JSON.parse baseline                       0.20808260 ms\nObject.freeze baseline                             0.42742203 ms\nimmutable greedy nb                                0.50378267 ms\n\n -----  vegalite-for-r.ipynb\nstraight JSON.parse baseline                       0.02544147 ms\nObject.freeze baseline                             0.06433977 ms\nimmutable greedy nb                                0.09066447 ms\n"
        }
      ]
    },
    "4e8d3ac0-5f3d-4b4b-b067-39f7c4968781": {
      "cell_type": "code",
      "execution_count": 13,
      "metadata": {
        "collapsed": false
      },
      "source": "notebooks = require('glob').sync('./*.ipynb')",
      "outputs": [
        {
          "data": {
            "text/plain": "[ './altair.ipynb',\n  './display-updates.ipynb',\n  './download-stats.ipynb',\n  './geojson.ipynb',\n  './immutable-revival.ipynb',\n  './intro.ipynb',\n  './markdown-regression-testing.ipynb',\n  './model-debug.ipynb',\n  './pandas-to-geojson.ipynb',\n  './plotly.ipynb',\n  './plotlyr.ipynb',\n  './table-with-schema.ipynb',\n  './vdom.ipynb',\n  './vegalite-for-r.ipynb' ]"
          },
          "execution_count": 13,
          "metadata": {},
          "output_type": "execute_result"
        }
      ]
    },
    "d00faf13-eb88-40d5-be37-614751208044": {
      "cell_type": "markdown",
      "metadata": {
        "outputExpanded": false
      },
      "source": "Since these are in milliseconds and the difference is not much, it seems like maybe this doesn't need to be optimized. In the case of the altair notebook, which has a pretty big JSON structure inside (and only one!), perhaps it would make sense if some of our structure is frozen objects (don't force vega payloads to be Immutable Maps).\n\n```\n -----  altair.ipynb\nstraight JSON.parse baseline                       1.10996391 ms\nObject.freeze baseline                             2.29745900 ms\nstraight JSON.parse then commutable conversion     6.84918417 ms\nimmutable greedy nb                                5.85418076 ms\n```"
    },
    "d12e71c0-2168-459a-a5d7-6927f4360f6b": {
      "cell_type": "code",
      "execution_count": 10,
      "metadata": {
        "collapsed": false,
        "outputExpanded": false
      },
      "source": "var specialKeys = new Set([\n    'application/javascript',\n    'text/html',\n    'text/markdown',\n    'text/latex',\n    'image/svg+xml',\n    'image/gif',\n    'image/png',\n    'image/jpeg',\n    'application/pdf',\n    'text/plain',\n    'source',\n    'text',\n]);\n\nfunction immutableGreedyReviver(key, value) {\n    if (Array.isArray(value)) {\n        if(specialKeys.has(key)) {\n            return value.join('')\n        }\n        return Immutable.List(value);\n    }\n\n    if (typeof value === 'object') {\n        return Immutable.Map(value)\n    }\n    return value;\n}",
      "outputs": []
    },
    "1c408704-2f6f-4b91-992f-f7a6d4a8b801": {
      "cell_type": "code",
      "execution_count": 4,
      "metadata": {
        "collapsed": false,
        "outputExpanded": false
      },
      "source": "function reviver(key, value) {\n    if(key === 'name') {\n        return value + \" senior\";\n    }\n    return value\n}\n\nJSON.parse('{\"a\": 2, \"b\": { \"name\": \"dave\" }}', reviver)",
      "outputs": [
        {
          "data": {
            "text/plain": "{ a: 2, b: { name: 'dave senior' } }"
          },
          "execution_count": 4,
          "metadata": {},
          "output_type": "execute_result"
        }
      ]
    },
    "cb658c44-4941-4207-aff1-010e1dc20f43": {
      "cell_type": "code",
      "execution_count": 2,
      "metadata": {
        "collapsed": false,
        "outputExpanded": false
      },
      "source": "var Immutable = require('immutable')\nvar _ = require('lodash')",
      "outputs": []
    },
    "a3a1ad39-fbc7-4052-acee-4f5088a5b8ee": {
      "cell_type": "markdown",
      "metadata": {
        "collapsed": false,
        "outputExpanded": false
      },
      "source": "# Revival on Parse\n\nJSON.parse takes an extra argument called a reviver:\n\n```\nJSON.parse(text[, reviver])\n```\n\nThe reviver accepts two parameters, `key` and `value` and returns the intended `value`. The key will either be a text key on Objects or numbers for when the value is in an Array.\n\nLet's walk through some sample code to check this out."
    },
    "e0ee1d4b-55b4-479c-aa9d-c24de29e47c7": {
      "cell_type": "markdown",
      "metadata": {
        "collapsed": false,
        "outputExpanded": false
      },
      "source": "We can also set up a \"greedy\" reviver that will also convert `source` and `text` fields. The primary problem with this though, because of how JSON.parse works is that we have no idea if it's a key in a cell where we expect, part of someone else's JSON payload, or in metadata."
    },
    "cd1e48e1-d86c-41c0-8580-072ee1cc636f": {
      "cell_type": "code",
      "execution_count": 12,
      "metadata": {
        "collapsed": false,
        "outputExpanded": false
      },
      "source": "// Calculate the milliseconds it takes to run f\nfunction measure(f) {\n  start = log()\n  f()\n  end = log()\n  return end.ms - start.ms  \n}\n\n// measure the function run n times, return the mean\nfunction runTrials(f, n=1000) {\n    values = []\n    for(var ii=0; ii < n; ii++) {\n        values.push(measure(f))\n    }\n    return values.reduce((a, b) => a + b, 0)/n\n}",
      "outputs": []
    },
    "3ab420f6-0cfa-4beb-82b7-8e7990702d54": {
      "cell_type": "markdown",
      "metadata": {
        "collapsed": false,
        "outputExpanded": false
      },
      "source": "We can set up a reviver that handles all the keys that are most likely to have [multi-line strings](https://github.com/jupyter/nbformat/blob/62d6eb8803616d198eaa2024604d1fe923f2a7b3/nbformat/v4/nbformat.v4.schema.json#L386). We'll start with those that are media types that we know end up being encoded as an array of strings."
    },
    "2af6f273-963c-4e05-b825-fa57d2d5f05d": {
      "cell_type": "markdown",
      "metadata": {
        "collapsed": false,
        "outputExpanded": false
      },
      "source": "Since it seemed handy enough, I put [`immutable-reviver`](https://github.com/rgbkrk/immutable-reviver) on npm. We'll just use the version written here for now though."
    },
    "799edd8c-05a7-40d6-9bf9-fec9824511b0": {
      "cell_type": "markdown",
      "metadata": {
        "outputExpanded": false
      },
      "source": "This means you can use this to change values based on a key, though you won't know the nested path of the overall JSON object. \n\nSince the string is (expected to be) JSON, there are only two types which are not immutable: `Array` and `Object`. You can use this to your advantage to create frozen or Immutable.js objects while parsing."
    },
    "4d38288e-bbb4-4e0e-be36-afba4a56ef16": {
      "cell_type": "code",
      "execution_count": 14,
      "metadata": {
        "collapsed": false,
        "outputExpanded": false
      },
      "source": "for(var notebookPath of notebooks) {\n    console.log(\"\\n ----- \", path.basename(notebookPath))\n    raw = fs.readFileSync(notebookPath)\n    \n    var tests = [\n        { name: 'straight JSON.parse', f: () => { JSON.parse(raw) } },\n        { name: 'Object.freeze', f: () => { JSON.parse(raw, (k, v) => Object.freeze(v)) } },\n        { name: 'basic Immutable', f: () => { JSON.parse(raw, immutableReviver) } },\n        { name: 'immutable notebook', f: () => { JSON.parse(raw, immutableNBReviver) } },\n        { name: 'immutable greedy nb', f: () => { JSON.parse(raw, immutableGreedyReviver) } },\n        // { name: 'fromJS', f: () => { JSON.parse(raw, (k, v) => Immutable.fromJS(v)) } },\n        // { name: 'current commutable way', f: () => { commutable.fromJS(JSON.parse(raw)) } },\n    ]\n    \n    for(var test of tests) {\n        mean = runTrials(test.f, 100)\n        console.log(_.padEnd(test.name, 30), mean)\n    }\n    \n\n}\n\n",
      "outputs": [
        {
          "name": "stdout",
          "output_type": "stream",
          "text": "\n -----  altair.ipynb\nstraight JSON.parse            1.4063484099999914\nObject.freeze                  2.4308908999999996\nbasic Immutable                6.025289570000013\nimmutable notebook             5.620541619999967\nimmutable greedy nb            5.428494269999992\n\n -----  display-updates.ipynb\nstraight JSON.parse            0.05574395999999524\nObject.freeze                  0.1584267300000147\nbasic Immutable                0.3202709999999888\nimmutable notebook             0.2225792299999921\nimmutable greedy nb            0.24772511000001032\n\n -----  download-stats.ipynb\nstraight JSON.parse            0.032402409999976955\nObject.freeze                  0.09965704999995523\nbasic Immutable                0.11464810999999826\nimmutable notebook             0.10864023999997244\nimmutable greedy nb            0.12461695000001782\n\n -----  geojson.ipynb\nstraight JSON.parse            0.06297638000000007\nObject.freeze                  0.17123171999999612\nbasic Immutable                0.22299018000000614\nimmutable notebook             0.27572304999999686\nimmutable greedy nb            0.23289007000001674\n\n -----  immutable-revival.ipynb\nstraight JSON.parse            0.12126907999998365\nObject.freeze                  0.3684168800000134\nbasic Immutable                0.4458534900000086\nimmutable notebook             0.45323495000001457\nimmutable greedy nb            0.4763560100000268\n\n -----  intro.ipynb\nstraight JSON.parse            0.032366369999999735\nObject.freeze                  0.09262827000005927\nbasic Immutable                0.13067901000001256\nimmutable notebook             0.11425753000000441\nimmutable greedy nb            0.11970571000004383\n\n -----  markdown-regression-testing.ipynb\nstraight JSON.parse            0.07286934999997356\nObject.freeze                  0.16355026000001088\nbasic Immutable                0.18101823000002695\nimmutable notebook             0.19177984999996625\nimmutable greedy nb            0.18510739000001195\n\n -----  model-debug.ipynb\nstraight JSON.parse            0.015954620000029535\nObject.freeze                  0.05456730000002608\nbasic Immutable                0.06485671000002186\nimmutable notebook             0.07154337999997551\nimmutable greedy nb            0.06928663999998207\n\n -----  pandas-to-geojson.ipynb\nstraight JSON.parse            0.08015027999994345\nObject.freeze                  0.23053227000003063\nbasic Immutable                0.29623483000000306\nimmutable notebook             0.30511772999998354\nimmutable greedy nb            0.30947205000002215\n\n -----  plotly.ipynb\nstraight JSON.parse            0.6267297900000358\nObject.freeze                  2.0539574299999823\nbasic Immutable                2.4463041999999406\nimmutable notebook             2.406177260000004\nimmutable greedy nb            2.310764270000027\n\n -----  plotlyr.ipynb\nstraight JSON.parse            0.008999119999998584\nObject.freeze                  0.029359199999980774\nbasic Immutable                0.13141003000001547\nimmutable notebook             0.042520870000053036\nimmutable greedy nb            0.03819666999995206\n\n -----  table-with-schema.ipynb\nstraight JSON.parse            0.4430950299999404\nObject.freeze                  0.8079310500000156\nbasic Immutable                1.2991066999999747\nimmutable notebook             1.0094672499999888\nimmutable greedy nb            1.2554491099999632\n\n -----  vdom.ipynb\nstraight JSON.parse            0.2161279100000229\nObject.freeze                  0.41425267999995413\nbasic Immutable                0.5240185399999973\nimmutable notebook             0.5103935699999874\nimmutable greedy nb            0.5035423799999899\n\n -----  vegalite-for-r.ipynb\nstraight JSON.parse            0.024133720000018\nObject.freeze                  0.060676349999985175\nbasic Immutable                0.09034575000003314\nimmutable notebook             0.08453387000004113\nimmutable greedy nb            0.08625473999996756\n"
        }
      ]
    },
    "24bd593b-1b7a-41e5-8d76-5109011691c1": {
      "cell_type": "code",
      "execution_count": 3,
      "metadata": {
        "collapsed": false,
        "outputExpanded": false
      },
      "source": "// Classic JSON.parse\nJSON.parse('{\"a\": 2, \"b\": { \"name\": \"dave\" }}')",
      "outputs": [
        {
          "data": {
            "text/plain": "{ a: 2, b: { name: 'dave' } }"
          },
          "execution_count": 3,
          "metadata": {},
          "output_type": "execute_result"
        }
      ]
    },
    "8c8de901-88f1-4f0f-93f5-dafb9047a05c": {
      "cell_type": "code",
      "execution_count": 9,
      "metadata": {
        "collapsed": false,
        "outputExpanded": false
      },
      "source": "var multilineStringMimetypes = new Set([\n    'application/javascript',\n    'text/html',\n    'text/markdown',\n    'text/latex',\n    'image/svg+xml',\n    'image/gif',\n    'image/png',\n    'image/jpeg',\n    'application/pdf',\n    'text/plain',\n]);\n\nfunction immutableNBReviver(key, value) {\n    if (Array.isArray(value)) {\n        if(multilineStringMimetypes.has(key)) {\n            return value.join('')\n        }\n        return Immutable.List(value);\n    }\n\n    if (typeof value === 'object') {\n        return Immutable.Map(value)\n    }\n    return value;\n}",
      "outputs": []
    },
    "26e5455a-54be-4a81-85e8-593e11ae2961": {
      "cell_type": "code",
      "execution_count": 8,
      "metadata": {
        "collapsed": false,
        "outputExpanded": false
      },
      "source": "revived.getIn(['b', 'name'])",
      "outputs": [
        {
          "data": {
            "text/plain": "'dave'"
          },
          "execution_count": 8,
          "metadata": {},
          "output_type": "execute_result"
        }
      ]
    },
    "bb98da62-d94f-4ab0-96b2-50be87e97c1f": {
      "cell_type": "markdown",
      "metadata": {},
      "source": "# Exploring Custom Revival with JSON.parse"
    },
    "bf269e61-3c80-4599-a069-40e72bd246e3": {
      "cell_type": "markdown",
      "metadata": {
        "outputExpanded": false
      },
      "source": "With our harness all set up, we can run through all the notebooks we have locally to see how they perform with different revivers."
    },
    "c8f5ea83-f5b3-43e9-9571-8b4e6ee7f11d": {
      "cell_type": "code",
      "execution_count": 1,
      "metadata": {
        "collapsed": false,
        "outputHidden": false,
        "inputHidden": true
      },
      "source": "$$svg$$ = `\n<svg xmlns=\"http://www.w3.org/2000/svg\" version=\"1.1\" viewBox=\"0 0 630 630\" height=\"90\">\n<g id=\"logo\">\n  <rect id=\"background\" x=\"0\" y=\"0\" width=\"630\" height=\"630\" fill=\"#f7df1e\" />\n  <path id=\"j\" d=\"m 165.65,526.47375 48.2125,-29.1775 C 223.16375,513.7875 231.625,527.74 251.92,527.74 c 19.45375,0 31.71875,-7.60975 31.71875,-37.21 l 0,-201.3 59.20375,0 0,202.1375 c 0,61.32 -35.94375,89.23125 -88.385,89.23125 -47.36125,0 -74.8525,-24.52875 -88.8075,-54.13\" />\n  <path id=\"s\" d=\"m 375,520.13 48.20625,-27.91125 c 12.69,20.72375 29.1825,35.9475 58.36125,35.9475 24.53125,0 40.17375,-12.26475 40.17375,-29.18125 0,-20.29875 -16.06875,-27.48875 -43.135,-39.32625 l -14.7975,-6.3475 c -42.715,-18.18125 -71.05,-41.0175 -71.05,-89.2275 0,-44.40375 33.83125,-78.2375 86.695,-78.2375 37.6375,0 64.7025,13.11125 84.15375,47.36625 l -46.09625,29.60125 c -10.15,-18.1825 -21.1425,-25.37125 -38.0575,-25.37125 -17.33875,0 -28.335,10.995 -28.335,25.37125 0,17.7625 10.99625,24.9525 36.3675,35.94875 l 14.8,6.3425 c 50.325,21.56875 78.66,43.5575 78.66,93.03375 0,53.2875 -41.86625,82.465 -98.11,82.465 -54.97625,0 -90.5,-26.2175 -107.83625,-60.47375\" />\n</g>\n</svg>\n`",
      "outputs": [
        {
          "data": {
            "image/svg+xml": "\n<svg xmlns=\"http://www.w3.org/2000/svg\" version=\"1.1\" viewBox=\"0 0 630 630\" height=\"90\">\n<g id=\"logo\">\n  <rect id=\"background\" x=\"0\" y=\"0\" width=\"630\" height=\"630\" fill=\"#f7df1e\" />\n  <path id=\"j\" d=\"m 165.65,526.47375 48.2125,-29.1775 C 223.16375,513.7875 231.625,527.74 251.92,527.74 c 19.45375,0 31.71875,-7.60975 31.71875,-37.21 l 0,-201.3 59.20375,0 0,202.1375 c 0,61.32 -35.94375,89.23125 -88.385,89.23125 -47.36125,0 -74.8525,-24.52875 -88.8075,-54.13\" />\n  <path id=\"s\" d=\"m 375,520.13 48.20625,-27.91125 c 12.69,20.72375 29.1825,35.9475 58.36125,35.9475 24.53125,0 40.17375,-12.26475 40.17375,-29.18125 0,-20.29875 -16.06875,-27.48875 -43.135,-39.32625 l -14.7975,-6.3475 c -42.715,-18.18125 -71.05,-41.0175 -71.05,-89.2275 0,-44.40375 33.83125,-78.2375 86.695,-78.2375 37.6375,0 64.7025,13.11125 84.15375,47.36625 l -46.09625,29.60125 c -10.15,-18.1825 -21.1425,-25.37125 -38.0575,-25.37125 -17.33875,0 -28.335,10.995 -28.335,25.37125 0,17.7625 10.99625,24.9525 36.3675,35.94875 l 14.8,6.3425 c 50.325,21.56875 78.66,43.5575 78.66,93.03375 0,53.2875 -41.86625,82.465 -98.11,82.465 -54.97625,0 -90.5,-26.2175 -107.83625,-60.47375\" />\n</g>\n</svg>\n"
          },
          "execution_count": 1,
          "metadata": {},
          "output_type": "execute_result"
        }
      ]
    },
    "57a8548f-7459-4fd8-b6a0-5becfda516f3": {
      "cell_type": "markdown",
      "metadata": {
        "outputExpanded": false
      },
      "source": "The reason I started looking into this was because I was trying to see if I could optimize loading of notebooks in nteract. We currently rely on a strategy that goes like:\n\n```\nnotebook = JSON.parse(rawNotebook)\nimmutableNotebook = Immutable.fromJS(notebook)\n\nourNotebook = immutableNotebook.map(...).map(...)... // A series of transformations to create our in-memory representation\n```\n\nThese transformations are mostly to turn notebook cells from this:\n\n\n```\n{\n  \"metadata\": {\n    \"collapsed\": false,\n    \"outputExpanded\": false\n  },\n  \"cell_type\": \"markdown\",\n  \"source\": [\n    \"# Outputs you can update by name\\n\",\n    \"\\n\",\n    \"This notebook demonstrates the new name-based display functionality in the notebook. Previously, notebooks could only attach output to the cell that was currently being executed:\\n\",\n    \"\\n\"\n  ]\n}\n```\n\ninto:\n\n```\n{\n  \"metadata\": {\n    \"collapsed\": false,\n    \"outputExpanded\": false\n  },\n  \"cell_type\": \"markdown\",\n  \"source\": \"# Outputs you can update by name\\n\\nThis notebook demonstrates the new name-based display functionality in the notebook. Previously, notebooks could only attach output to the cell that was currently being executed:\\n\\n\"\n}\n```\n\nThis multi-line string format, introduced by Jupyter, is to accomodate diffing of notebooks in tools like git and GitHub. It's applied to source on cells as well as some output types."
    },
    "3b0cda76-72ab-4f50-8481-0ab128acd515": {
      "cell_type": "code",
      "execution_count": 6,
      "metadata": {
        "collapsed": false,
        "outputExpanded": false
      },
      "source": "function immutableReviver(key, value) {\n    if (Array.isArray(value)) {\n        return Immutable.List(value);\n    }\n\n    if (typeof value === 'object') {\n        return Immutable.Map(value)\n    }\n    return value;\n}",
      "outputs": []
    },
    "a5bb9f2d-7bcd-4275-8dd2-b396c325e534": {
      "cell_type": "markdown",
      "metadata": {
        "collapsed": false,
        "outputExpanded": false
      },
      "source": "# Evaluating revivers for notebook loading.\n\nWithin nteract we are inevitably going to end up creating an immutable structure. These measurements only make sense in the context of running both the initial `JSON.parse` followed by the transformations. To give it a rough guess, I'll only compare a few I can evaluate."
    },
    "33a53bca-f44e-4dd7-9794-28e69e579c11": {
      "cell_type": "markdown",
      "metadata": {},
      "source": ""
    },
    "08a7d6d3-dc99-4f51-82cc-da6fe2f8aa64": {
      "cell_type": "code",
      "execution_count": 11,
      "metadata": {
        "collapsed": false,
        "outputExpanded": false
      },
      "source": "// Some logger that uses process.hrtime that I ripped off Stack Overflow, since we want to use timing in a way that we can't with console.time\n\n[ a, o, ms, s, log ] = ( function * () {\n    yield * [\n        ( process.hrtime )(),\n        process.hrtime,\n        ms => ( ( ms[ 0 ] * 1e9 + ms[ 1 ] ) / 1000000 ),\n        s  => s / 1000,\n        () => {\n            const f = o( a ), msf = ms( f ), sf = s( msf );\n            return { a, o: f, ms: msf, s: sf };\n        }\n    ];\n} )();",
      "outputs": [
        {
          "data": {
            "text/plain": "{}"
          },
          "execution_count": 11,
          "metadata": {},
          "output_type": "execute_result"
        }
      ]
    },
    "e08e14ee-ef83-499c-b126-b55ba360d639": {
      "cell_type": "code",
      "execution_count": 7,
      "metadata": {
        "collapsed": false,
        "outputExpanded": false
      },
      "source": "revived = JSON.parse('{\"a\": 2, \"b\": { \"name\": \"dave\" }}', immutableReviver)",
      "outputs": [
        {
          "data": {
            "text/plain": "Map { \"a\": 2, \"b\": Map { \"name\": \"dave\" } }"
          },
          "execution_count": 7,
          "metadata": {},
          "output_type": "execute_result"
        }
      ]
    }
  },
  "nbformat_minor": 0,
  "nbformat": 4,
  "metadata": {
    "kernelspec": {
      "name": "node_nteract",
      "language": "javascript",
      "display_name": "Node.js (nteract)"
    },
    "kernel_info": {
      "name": "node_nteract"
    },
    "language_info": {
      "name": "javascript",
      "version": "8.2.1",
      "mimetype": "application/javascript",
      "file_extension": ".js"
    },
    "title": "Exploring Custom Revival with JSON.parse",
    "nteract": {
      "version": "0.8.3"
    }
  }
}